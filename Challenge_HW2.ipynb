{
 "cells": [
  {
   "cell_type": "code",
   "execution_count": 2,
   "metadata": {},
   "outputs": [],
   "source": [
    "from langchain.chat_models import ChatOpenAI\n",
    "from langchain.prompts import ChatPromptTemplate, PromptTemplate\n",
    "from langchain.prompts.few_shot import FewShotChatMessagePromptTemplate, FewShotPromptTemplate\n",
    "from langchain.callbacks import StreamingStdOutCallbackHandler\n",
    "import os\n",
    "    \n",
    "\n",
    "chat = ChatOpenAI(\n",
    "  temperature = 0.1,\n",
    "  streaming = True,\n",
    "  callbacks=[StreamingStdOutCallbackHandler()],\n",
    "  openai_api_key=os.getenv(\"OPEN_API_KEY\")\n",
    ")"
   ]
  },
  {
   "cell_type": "code",
   "execution_count": 12,
   "metadata": {},
   "outputs": [],
   "source": [
    "\n",
    "examples = [\n",
    "  {\"movie\": \"Aliens\",\n",
    "   \"answer\": \"\"\"\n",
    "   Here is what I know\n",
    "   Director: Ridley Scott\n",
    "   Actors: Sigourney Weaver, Tom Skerritt,John Hurt\n",
    "   Budget: 10 million ($)\n",
    "   Box Office: 104 million ($)\n",
    "   Genre: Action\n",
    "   Sysnopsis: Aliens are attacking the Earth.\n",
    "   \"\"\"\n",
    "  },\n",
    "  {\"movie\": \"Saving Private Ryan\",\n",
    "   \"answer\": \"\"\"\n",
    "   I know this:\n",
    "   Director: Steven Spielberg\n",
    "   Actors: Tom Hanks, Tom Sizemore, Edward Burns\n",
    "   Budget: 70 million ($)\n",
    "   Box Office: 482 million ($)\n",
    "   Genre: Action\n",
    "   Sysnopsis: Saving Private Ryan is a movie about World War II.\n",
    "   \"\"\"\n",
    "  },\n",
    "  {\"movie\": \"The Matrix\",\n",
    "   \"answer\": \"\"\"\n",
    "   Information about The Matrix:\n",
    "   Director: The Wachowskis\n",
    "   Actors: Keanu Reeves, Laurence Fishburne, Carrie-Anne Moss\n",
    "   Budget: 63 million ($)\n",
    "   Box Office: 461 million ($)\n",
    "   Genre: Action\n",
    "   Sysnopsis: The Matrix is a movie about a computer simulation.\n",
    "   \"\"\"\n",
    "  },\n",
    "]"
   ]
  },
  {
   "cell_type": "code",
   "execution_count": 13,
   "metadata": {},
   "outputs": [
    {
     "name": "stdout",
     "output_type": "stream",
     "text": [
      "AI: \n",
      "   Here is what I know about Parasite:\n",
      "   Director: Bong Joon-ho\n",
      "   Actors: Song Kang-ho, Lee Sun-kyun, Cho Yeo-jeong\n",
      "   Budget: 11 million ($)\n",
      "   Box Office: 266 million ($)\n",
      "   Genre: Thriller\n",
      "   Sysnopsis: Parasite is a South Korean film about a poor family who infiltrates a wealthy household.content='AI: \\n   Here is what I know about Parasite:\\n   Director: Bong Joon-ho\\n   Actors: Song Kang-ho, Lee Sun-kyun, Cho Yeo-jeong\\n   Budget: 11 million ($)\\n   Box Office: 266 million ($)\\n   Genre: Thriller\\n   Sysnopsis: Parasite is a South Korean film about a poor family who infiltrates a wealthy household.'\n"
     ]
    }
   ],
   "source": [
    "\n",
    "example_prompt = PromptTemplate.from_template(\n",
    "    \"Human: What do you know about {movie}? \\n AI: {answer}\"\n",
    ")\n",
    "\n",
    "example_prompt = FewShotPromptTemplate(\n",
    "  example_prompt=example_prompt,\n",
    "  examples=examples,\n",
    "  suffix=\"Human: What do you know about {movie}?\",\n",
    "  input_variables=[\"movie\"],\n",
    ")\n",
    "\n",
    "chain = example_prompt | chat\n",
    "\n",
    "print(chain.invoke({\"movie\": \"Parasite\"}))"
   ]
  },
  {
   "cell_type": "code",
   "execution_count": 14,
   "metadata": {},
   "outputs": [
    {
     "name": "stdout",
     "output_type": "stream",
     "text": [
      "Information about Parasite:\n",
      "   Director: Bong Joon-ho\n",
      "   Actors: Song Kang-ho, Lee Sun-kyun, Cho Yeo-jeong\n",
      "   Budget: 11 million ($)\n",
      "   Box Office: 266 million ($)\n",
      "   Genre: Thriller/Drama\n",
      "   Synopsis: Parasite is a South Korean film that follows the story of a poor family who schemes to work for a wealthy family by posing as unrelated, highly qualified individuals. The film explores themes of class struggle and social inequality. It won numerous awards, including the Academy Award for Best Picture in 2020.content='Information about Parasite:\\n   Director: Bong Joon-ho\\n   Actors: Song Kang-ho, Lee Sun-kyun, Cho Yeo-jeong\\n   Budget: 11 million ($)\\n   Box Office: 266 million ($)\\n   Genre: Thriller/Drama\\n   Synopsis: Parasite is a South Korean film that follows the story of a poor family who schemes to work for a wealthy family by posing as unrelated, highly qualified individuals. The film explores themes of class struggle and social inequality. It won numerous awards, including the Academy Award for Best Picture in 2020.'\n"
     ]
    }
   ],
   "source": [
    "\n",
    "example_prompt = ChatPromptTemplate.from_messages(\n",
    "  [\n",
    "    (\"human\", \"What do you know about {movie}?\"),\n",
    "    (\"ai\", \"{answer}\"),\n",
    "  ]\n",
    ")\n",
    "\n",
    "chat_prompt = FewShotChatMessagePromptTemplate(\n",
    "  example_prompt=example_prompt,\n",
    "  examples=examples,\n",
    ")\n",
    "\n",
    "final_prompt = ChatPromptTemplate.from_messages(\n",
    "  [\n",
    "    (\"system\", \"You are a movie expert. You have to give me the information about the movie.\"),\n",
    "    chat_prompt,\n",
    "    (\"human\", \"What do you know about {movie}?\"),\n",
    "  ]\n",
    ")\n",
    "\n",
    "chain = final_prompt | chat\n",
    "\n",
    "print(chain.invoke({\"movie\": \"Parasite\"}))"
   ]
  },
  {
   "cell_type": "code",
   "execution_count": null,
   "metadata": {},
   "outputs": [],
   "source": []
  }
 ],
 "metadata": {
  "kernelspec": {
   "display_name": "venv",
   "language": "python",
   "name": "python3"
  },
  "language_info": {
   "codemirror_mode": {
    "name": "ipython",
    "version": 3
   },
   "file_extension": ".py",
   "mimetype": "text/x-python",
   "name": "python",
   "nbconvert_exporter": "python",
   "pygments_lexer": "ipython3",
   "version": "3.11.6"
  }
 },
 "nbformat": 4,
 "nbformat_minor": 2
}
