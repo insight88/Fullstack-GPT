{
 "cells": [
  {
   "cell_type": "code",
   "execution_count": 28,
   "metadata": {},
   "outputs": [],
   "source": [
    "from langchain.chat_models import ChatOpenAI\n",
    "from langchain.prompts import FewShotPromptTemplate, ChatPromptTemplate, PromptTemplate\n",
    "from langchain.prompts.few_shot import FewShotChatMessagePromptTemplate\n",
    "from langchain.callbacks import StreamingStdOutCallbackHandler\n",
    "import os\n",
    "    \n",
    "\n",
    "chat = ChatOpenAI(\n",
    "  temperature = 0.1,\n",
    "  streaming = True,\n",
    "  callbacks=[StreamingStdOutCallbackHandler()],\n",
    "  openai_api_key=os.getenv(\"OPEN_API_KEY\")\n",
    ")"
   ]
  },
  {
   "cell_type": "code",
   "execution_count": 29,
   "metadata": {},
   "outputs": [],
   "source": [
    "\n",
    "examples = [\n",
    "  {\"movie\": \"Aliens\",\n",
    "   \"answer\": \"\"\"\n",
    "   Here is what I know\n",
    "   Director: Ridley Scott\n",
    "   Actors: Sigourney Weaver, Tom Skerritt,John Hurt\n",
    "   Budget: 10 million ($)\n",
    "   Box Office: 104 million ($)\n",
    "   Genre: Action\n",
    "   Sysnopsis: Aliens are attacking the Earth.\n",
    "   \"\"\"\n",
    "  },\n",
    "  {\"movie\": \"Saving Private Ryan\",\n",
    "   \"answer\": \"\"\"\n",
    "   I know this:\n",
    "   Director: Steven Spielberg\n",
    "   Actors: Tom Hanks, Tom Sizemore, Edward Burns\n",
    "   Budget: 70 million ($)\n",
    "   Box Office: 482 million ($)\n",
    "   Genre: Action\n",
    "   Sysnopsis: Saving Private Ryan is a movie about World War II.\n",
    "   \"\"\"\n",
    "  },\n",
    "  {\"movie\": \"The Matrix\",\n",
    "   \"answer\": \"\"\"\n",
    "   Information about The Matrix:\n",
    "   Director: The Wachowskis\n",
    "   Actors: Keanu Reeves, Laurence Fishburne, Carrie-Anne Moss\n",
    "   Budget: 63 million ($)\n",
    "   Box Office: 461 million ($)\n",
    "   Genre: Action\n",
    "   Sysnopsis: The Matrix is a movie about a computer simulation.\n",
    "   \"\"\"\n",
    "  },\n",
    "]"
   ]
  },
  {
   "cell_type": "code",
   "execution_count": 33,
   "metadata": {},
   "outputs": [
    {
     "name": "stdout",
     "output_type": "stream",
     "text": [
      "Information about Parasite:\n",
      "   Director: Bong Joon-ho\n",
      "   Actors: Song Kang-ho, Lee Sun-kyun, Cho Yeo-jeong\n",
      "   Budget: 11 million ($)\n",
      "   Box Office: 266 million ($)\n",
      "   Genre: Thriller/Drama\n",
      "   Synopsis: Parasite is a South Korean film that follows the members of a poor family who scheme to become employed by a wealthy family. The film explores themes of class division and social inequality. It won multiple awards, including the Academy Award for Best Picture in 2020.content='Information about Parasite:\\n   Director: Bong Joon-ho\\n   Actors: Song Kang-ho, Lee Sun-kyun, Cho Yeo-jeong\\n   Budget: 11 million ($)\\n   Box Office: 266 million ($)\\n   Genre: Thriller/Drama\\n   Synopsis: Parasite is a South Korean film that follows the members of a poor family who scheme to become employed by a wealthy family. The film explores themes of class division and social inequality. It won multiple awards, including the Academy Award for Best Picture in 2020.'\n"
     ]
    }
   ],
   "source": [
    "\n",
    "example_prompt = ChatPromptTemplate.from_messages(\n",
    "  [\n",
    "    (\"human\", \"What do you know about {movie}?\"),\n",
    "    (\"ai\", \"{answer}\"),\n",
    "  ]\n",
    ")\n",
    "\n",
    "example_prompt = FewShotChatMessagePromptTemplate(\n",
    "  example_prompt=example_prompt,\n",
    "  examples=examples,\n",
    ")\n",
    "\n",
    "final_prompt = ChatPromptTemplate.from_messages([\n",
    "  (\"system\", \"You are a movie expert. You have to give me the information about the movie.\"),\n",
    "  example_prompt,\n",
    "  (\"human\", \"What do you know about {movie}?\"),\n",
    "])\n",
    "\n",
    "chain = final_prompt | chat\n",
    "\n",
    "print(chain.invoke({\"movie\": \"Parasite\"}))"
   ]
  },
  {
   "cell_type": "code",
   "execution_count": null,
   "metadata": {},
   "outputs": [],
   "source": []
  }
 ],
 "metadata": {
  "kernelspec": {
   "display_name": "venv",
   "language": "python",
   "name": "python3"
  },
  "language_info": {
   "codemirror_mode": {
    "name": "ipython",
    "version": 3
   },
   "file_extension": ".py",
   "mimetype": "text/x-python",
   "name": "python",
   "nbconvert_exporter": "python",
   "pygments_lexer": "ipython3",
   "version": "3.11.6"
  }
 },
 "nbformat": 4,
 "nbformat_minor": 2
}
