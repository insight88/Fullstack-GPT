{
 "cells": [
  {
   "cell_type": "code",
   "execution_count": 42,
   "metadata": {},
   "outputs": [
    {
     "data": {
      "text/plain": [
       "'The distance between Mexico and Thailand is approximately 16,000 kilometers (9,942 miles) when measured in a straight line.'"
      ]
     },
     "execution_count": 42,
     "metadata": {},
     "output_type": "execute_result"
    }
   ],
   "source": [
    "from langchain.chat_models import ChatOpenAI\n",
    "from langchain.prompts import PromptTemplate, ChatPromptTemplate\n",
    "import os\n",
    "\n",
    "template = PromptTemplate.from_template(\"What is the distance between {country1} and {country2}?\")\n",
    "\n",
    "chat = ChatOpenAI(\n",
    "  temperature=0.1,\n",
    "  openai_api_key=os.getenv(\"OPEN_API_KEY\"),\n",
    ")\n",
    "\n",
    "prompt = template.format(country1=\"Mexico\", country2=\"Thailand\")\n",
    "\n",
    "chat.predict(prompt)"
   ]
  },
  {
   "cell_type": "code",
   "execution_count": 43,
   "metadata": {},
   "outputs": [
    {
     "data": {
      "text/plain": [
       "AIMessage(content='Ciao! Il mio nome è Paolo. La distanza tra il Messico e la Thailandia è di circa 16.000 chilometri.')"
      ]
     },
     "execution_count": 43,
     "metadata": {},
     "output_type": "execute_result"
    }
   ],
   "source": [
    "from langchain.schema import HumanMessage, AIMessage, SystemMessage\n",
    "\n",
    "messages = [\n",
    "  SystemMessage(content=\"You are a geography expert. And you only reply in Italian\"),\n",
    "  AIMessage(content=\"Ciao, mi chiamo Paolo\"),\n",
    "  HumanMessage(content=\"What is the distance between the Mexico and Thailand? Also what is your name?\"),\n",
    "]\n",
    "\n",
    "chat.predict_messages(messages)"
   ]
  },
  {
   "cell_type": "code",
   "execution_count": 14,
   "metadata": {},
   "outputs": [
    {
     "data": {
      "text/plain": [
       "AIMessage(content='Γεια σας! Η απόσταση μεταξύ του Μεξικού και της Ταϊλάνδης είναι περίπου 16.000 χιλιόμετρα. Το όνομά μου είναι Σωκράτης. Πώς μπορώ να βοηθήσω;')"
      ]
     },
     "execution_count": 14,
     "metadata": {},
     "output_type": "execute_result"
    }
   ],
   "source": [
    "from langchain.chat_models import ChatOpenAI\n",
    "from langchain.prompts import PromptTemplate, ChatPromptTemplate\n",
    "from langchain.schema import HumanMessage, AIMessage, SystemMessage\n",
    "\n",
    "template = ChatPromptTemplate.from_messages(\n",
    "    [\n",
    "      (\"system\", \"You are a geography expert. And you only reply in {language}.\"),\n",
    "      (\"ai\", \"Ciao, mi chiamo {name}!\"),\n",
    "      (\"human\", \"What is the distance between {country_a} and {country_b}. Also, what is your name?\"),\n",
    "    ]\n",
    ")\n",
    "\n",
    "prompt = template.format_messages(\n",
    "    language=\"Greek\",\n",
    "    name=\"Socrates\",\n",
    "    country_a=\"Mexico\",\n",
    "    country_b=\"Thailand\",\n",
    ")\n",
    "\n",
    "chat.predict_messages(prompt)"
   ]
  },
  {
   "cell_type": "code",
   "execution_count": 15,
   "metadata": {},
   "outputs": [
    {
     "data": {
      "text/plain": [
       "['Hello', 'my name', 'is John']"
      ]
     },
     "execution_count": 15,
     "metadata": {},
     "output_type": "execute_result"
    }
   ],
   "source": [
    "from langchain.schema import BaseOutputParser\n",
    "\n",
    "class CommaOutputParser(BaseOutputParser):\n",
    "  def parse(self, text):\n",
    "    items = text.strip().split(\",\")\n",
    "    return list(map(str.strip, items))\n",
    "  \n",
    "  \n",
    "p = CommaOutputParser()\n",
    "\n",
    "p.parse(\"Hello, my name, is John\")"
   ]
  },
  {
   "cell_type": "code",
   "execution_count": 34,
   "metadata": {},
   "outputs": [
    {
     "name": "stdout",
     "output_type": "stream",
     "text": [
      "red, blue, green, yellow, orange, purple, pink, black, white, brown"
     ]
    },
    {
     "data": {
      "text/plain": [
       "['red',\n",
       " 'blue',\n",
       " 'green',\n",
       " 'yellow',\n",
       " 'orange',\n",
       " 'purple',\n",
       " 'pink',\n",
       " 'black',\n",
       " 'white',\n",
       " 'brown']"
      ]
     },
     "execution_count": 34,
     "metadata": {},
     "output_type": "execute_result"
    }
   ],
   "source": [
    "template = ChatPromptTemplate.from_messages([\n",
    "  (\"system\", \"You are a list generating machine. Everthing you are asked will be answered with a comma separated list of max {max_items} in lowercase. DON'T reply with anything else.\"),\n",
    "  (\"human\", \"{question}\"),\n",
    "])\n",
    "                                            \n",
    "prompt = template.format_messages(\n",
    "  max_items=10,\n",
    "  question=\"What are the colors?\",\n",
    ")\n",
    "\n",
    "result = chat.predict_messages(prompt)\n",
    "p = CommaOutputParser()\n",
    "\n",
    "p.parse(result.content)"
   ]
  },
  {
   "cell_type": "code",
   "execution_count": 35,
   "metadata": {},
   "outputs": [
    {
     "name": "stdout",
     "output_type": "stream",
     "text": [
      "pikachu, charmander, bulbasaur, squirtle, jigglypuff"
     ]
    },
    {
     "data": {
      "text/plain": [
       "['pikachu', 'charmander', 'bulbasaur', 'squirtle', 'jigglypuff']"
      ]
     },
     "execution_count": 35,
     "metadata": {},
     "output_type": "execute_result"
    }
   ],
   "source": [
    "chain = template | chat | CommaOutputParser()\n",
    "\n",
    "chain.invoke({\n",
    "  \"max_items\": 5,\n",
    "  \"question\": \"What are the pokemons?\",\n",
    "})"
   ]
  },
  {
   "cell_type": "code",
   "execution_count": 40,
   "metadata": {},
   "outputs": [],
   "source": [
    "from langchain.chat_models import ChatOpenAI\n",
    "from langchain.prompts import PromptTemplate, ChatPromptTemplate\n",
    "from langchain.callbacks import StreamingStdOutCallbackHandler\n",
    "import os\n",
    "\n",
    "chat = ChatOpenAI(\n",
    "  temperature = 0.1,\n",
    "  streaming = True,\n",
    "  callbacks=[StreamingStdOutCallbackHandler()],\n",
    "  openai_api_key=os.getenv(\"OPEN_API_KEY\")\n",
    ")\n",
    "\n",
    "chef_template = ChatPromptTemplate.from_messages([\n",
    "  (\"system\", \"You are a world-class international chef. You are asked to create a recipe with easy to find ingredients.\"),\n",
    "  (\"human\", \"I want to cook {cuisine} food.\"),\n",
    "])\n",
    "\n",
    "chef_chain = chef_template | chat"
   ]
  },
  {
   "cell_type": "code",
   "execution_count": 41,
   "metadata": {},
   "outputs": [
    {
     "name": "stdout",
     "output_type": "stream",
     "text": [
      "Great choice! How about trying a classic Indian dish like Chicken Tikka Masala? It's a flavorful and aromatic dish that is sure to impress your friends and family. Here's a simple recipe for you to try:\n",
      "\n",
      "Ingredients:\n",
      "- 1 lb boneless, skinless chicken breasts, cut into bite-sized pieces\n",
      "- 1 cup plain yogurt\n",
      "- 2 tablespoons lemon juice\n",
      "- 2 tablespoons vegetable oil\n",
      "- 1 onion, finely chopped\n",
      "- 3 cloves garlic, minced\n",
      "- 1 tablespoon ginger, minced\n",
      "- 1 can (14 oz) diced tomatoes\n",
      "- 2 tablespoons tomato paste\n",
      "- 1 tablespoon garam masala\n",
      "- 1 teaspoon ground cumin\n",
      "- 1 teaspoon ground coriander\n",
      "- 1 teaspoon paprika\n",
      "- 1/2 teaspoon turmeric\n",
      "- 1/2 teaspoon cayenne pepper (adjust to taste)\n",
      "- Salt and pepper to taste\n",
      "- 1/2 cup heavy cream\n",
      "- Fresh cilantro, chopped (for garnish)\n",
      "\n",
      "Instructions:\n",
      "1. In a bowl, mix together the yogurt, lemon juice, 1 tablespoon of vegetable oil, half of the minced garlic, half of the minced ginger, and a pinch of salt. Add the chicken pieces and marinate for at least 1 hour, preferably overnight.\n",
      "2. Preheat the oven to 400°F (200°C). Thread the marinated chicken onto skewers and place them on a baking sheet. Bake for 20-25 minutes or until the chicken is cooked through.\n",
      "3. In a large skillet, heat the remaining tablespoon of vegetable oil over medium heat. Add the chopped onion and cook until softened, about 5 minutes.\n",
      "4. Add the remaining garlic and ginger to the skillet and cook for another minute until fragrant.\n",
      "5. Stir in the diced tomatoes, tomato paste, garam masala, cumin, coriander, paprika, turmeric, cayenne pepper, salt, and pepper. Cook for 5-7 minutes, stirring occasionally.\n",
      "6. Add the baked chicken pieces to the skillet and stir to coat them in the sauce. Simmer for another 10 minutes.\n",
      "7. Stir in the heavy cream and cook for an additional 5 minutes.\n",
      "8. Serve the Chicken Tikka Masala over steamed rice or with naan bread. Garnish with chopped cilantro before serving.\n",
      "\n",
      "Enjoy your homemade Chicken Tikka Masala!For a vegetarian version of Chicken Tikka Masala, you can replace the chicken with a plant-based alternative such as tofu or paneer. Here's how you can prepare these alternatives:\n",
      "\n",
      "1. Tofu: Use firm or extra-firm tofu for this recipe. Drain the tofu and press it to remove excess water. Cut the tofu into bite-sized cubes and follow the marinating instructions in the recipe. Tofu absorbs flavors well, so marinating it for a longer time will enhance the taste. Instead of baking, you can pan-fry the marinated tofu until it's golden brown and slightly crispy.\n",
      "\n",
      "2. Paneer: Paneer is a type of Indian cheese that holds its shape well when cooked. You can either make your own paneer at home or buy it from the store. Cut the paneer into bite-sized cubes and follow the marinating instructions in the recipe. Since paneer is already firm, you can skip the baking step and directly add the marinated paneer to the sauce in the skillet. Cook it gently to allow the flavors to meld together.\n",
      "\n",
      "By using tofu or paneer as a substitute for chicken, you can enjoy a delicious vegetarian version of Chicken Tikka Masala that retains the essence of the traditional dish."
     ]
    },
    {
     "data": {
      "text/plain": [
       "AIMessageChunk(content=\"For a vegetarian version of Chicken Tikka Masala, you can replace the chicken with a plant-based alternative such as tofu or paneer. Here's how you can prepare these alternatives:\\n\\n1. Tofu: Use firm or extra-firm tofu for this recipe. Drain the tofu and press it to remove excess water. Cut the tofu into bite-sized cubes and follow the marinating instructions in the recipe. Tofu absorbs flavors well, so marinating it for a longer time will enhance the taste. Instead of baking, you can pan-fry the marinated tofu until it's golden brown and slightly crispy.\\n\\n2. Paneer: Paneer is a type of Indian cheese that holds its shape well when cooked. You can either make your own paneer at home or buy it from the store. Cut the paneer into bite-sized cubes and follow the marinating instructions in the recipe. Since paneer is already firm, you can skip the baking step and directly add the marinated paneer to the sauce in the skillet. Cook it gently to allow the flavors to meld together.\\n\\nBy using tofu or paneer as a substitute for chicken, you can enjoy a delicious vegetarian version of Chicken Tikka Masala that retains the essence of the traditional dish.\")"
      ]
     },
     "execution_count": 41,
     "metadata": {},
     "output_type": "execute_result"
    }
   ],
   "source": [
    "veg_chef_prompt = ChatPromptTemplate.from_messages([\n",
    "  (\"system\", \"You are a vegetarian chef specialized on making traditional recipies vegetarian. You find alternative ingredients and explain their preparation. You don't radically modify the recipe. If there is no alternative for a food just say you don't know how to replace it. \"),\n",
    "  (\"human\", \"{recipe}\"),\n",
    "])\n",
    "\n",
    "veg_chain = veg_chef_prompt | chat\n",
    "\n",
    "final_chain = {\"recipe\": chef_chain} | veg_chain\n",
    "\n",
    "final_chain.invoke({\n",
    "  \"cuisine\": \"Indian\",\n",
    "})"
   ]
  },
  {
   "cell_type": "code",
   "execution_count": null,
   "metadata": {},
   "outputs": [],
   "source": []
  }
 ],
 "metadata": {
  "kernelspec": {
   "display_name": "env",
   "language": "python",
   "name": "python3"
  },
  "language_info": {
   "codemirror_mode": {
    "name": "ipython",
    "version": 3
   },
   "file_extension": ".py",
   "mimetype": "text/x-python",
   "name": "python",
   "nbconvert_exporter": "python",
   "pygments_lexer": "ipython3",
   "version": "3.11.6"
  }
 },
 "nbformat": 4,
 "nbformat_minor": 2
}
