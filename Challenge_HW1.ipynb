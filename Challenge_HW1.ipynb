{
 "cells": [
  {
   "cell_type": "code",
   "execution_count": 23,
   "metadata": {},
   "outputs": [],
   "source": [
    "from langchain.chat_models import ChatOpenAI\n",
    "from langchain.prompts import PromptTemplate, ChatPromptTemplate\n",
    "from langchain.callbacks import StreamingStdOutCallbackHandler\n",
    "import os\n",
    "\n",
    "chat = ChatOpenAI(\n",
    "  temperature = 0.1,\n",
    "  streaming = True,\n",
    "  callbacks=[StreamingStdOutCallbackHandler()],\n",
    "  openai_api_key=os.getenv(\"OPEN_API_KEY\")\n",
    ")\n",
    "\n",
    "language_template = ChatPromptTemplate.from_messages([\n",
    "  (\"system\", \"You are a pro-level programmer. You can choose the best programming language for write a poem.\"),\n",
    "  (\"human\", \"I want to write a poem in {language}.\"),\n",
    "])\n",
    "\n",
    "poem_prompt = ChatPromptTemplate.from_messages([\n",
    "  (\"system\", \"You are a describer. You can describe the meaning of the poem.\"),\n",
    "  (\"human\", \"{poem}\"),\n",
    "])"
   ]
  },
  {
   "cell_type": "code",
   "execution_count": 24,
   "metadata": {},
   "outputs": [],
   "source": [
    "language_chain = language_template | chat\n",
    "poem_chain = poem_prompt | chat\n",
    "final_chain = {\"poem\": language_chain} | poem_chain"
   ]
  },
  {
   "cell_type": "code",
   "execution_count": 25,
   "metadata": {},
   "outputs": [
    {
     "name": "stdout",
     "output_type": "stream",
     "text": [
      "Sure! Here's a simple poem written in Python:\n",
      "\n",
      "```python\n",
      "roses = \"red\"\n",
      "violets = \"blue\"\n",
      "poem = f\"Roses are {roses},\\nViolets are {violets},\\nSugar is sweet,\\nAnd so are you.\"\n",
      "\n",
      "print(poem)\n",
      "```\n",
      "\n",
      "This code will output the following poem:\n",
      "\n",
      "```\n",
      "Roses are red,\n",
      "Violets are blue,\n",
      "Sugar is sweet,\n",
      "And so are you.\n",
      "```This poem is a simple and classic expression of affection and admiration. It uses the traditional imagery of roses being red and violets being blue to convey a sense of beauty and love. The addition of \"Sugar is sweet, And so are you\" further emphasizes the sweetness and endearment felt towards the recipient of the poem. Overall, the poem is a charming and timeless way to express feelings of fondness and admiration towards someone special."
     ]
    },
    {
     "data": {
      "text/plain": [
       "AIMessageChunk(content='This poem is a simple and classic expression of affection and admiration. It uses the traditional imagery of roses being red and violets being blue to convey a sense of beauty and love. The addition of \"Sugar is sweet, And so are you\" further emphasizes the sweetness and endearment felt towards the recipient of the poem. Overall, the poem is a charming and timeless way to express feelings of fondness and admiration towards someone special.')"
      ]
     },
     "execution_count": 25,
     "metadata": {},
     "output_type": "execute_result"
    }
   ],
   "source": [
    "final_chain.invoke({\n",
    "  \"language\": \"Python\"\n",
    "})"
   ]
  },
  {
   "cell_type": "code",
   "execution_count": null,
   "metadata": {},
   "outputs": [],
   "source": []
  }
 ],
 "metadata": {
  "kernelspec": {
   "display_name": "venv",
   "language": "python",
   "name": "python3"
  },
  "language_info": {
   "codemirror_mode": {
    "name": "ipython",
    "version": 3
   },
   "file_extension": ".py",
   "mimetype": "text/x-python",
   "name": "python",
   "nbconvert_exporter": "python",
   "pygments_lexer": "ipython3",
   "version": "3.11.6"
  }
 },
 "nbformat": 4,
 "nbformat_minor": 2
}
